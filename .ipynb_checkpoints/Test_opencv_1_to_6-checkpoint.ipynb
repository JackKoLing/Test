{
 "cells": [
  {
   "cell_type": "markdown",
   "metadata": {},
   "source": [
    "# 第一周测试\n",
    "* 主要测试Opencv书本的前6章节的学习情况。\n",
    "\n",
    "\n",
    "* 测试要求\n",
    "    * 1.填充完成下面的代码，运行结束后和相应的答案图片比较\n",
    "    * 2.完成所有内容后，保存文件，上传到自己的github帐号里面\n",
    "    * 3.请尽量在本周内完成，下周一为最后期限。"
   ]
  },
  {
   "cell_type": "markdown",
   "metadata": {},
   "source": [
    "# 载入图片的实例\n",
    "* 与书本内容有所不同，因为要在jupyter notebook里面显示，所以采用matplotlib来载入图片"
   ]
  },
  {
   "cell_type": "code",
   "execution_count": null,
   "metadata": {
    "collapsed": true
   },
   "outputs": [],
   "source": [
    "# 载入图片并显示\n",
    "# Load package\n",
    "import cv2\n",
    "import matplotlib.pyplot as plt\n",
    "import numpy as np\n",
    "\n",
    "\n",
    "# -------------Type your code here-------------\n",
    "# TODO: load image \"winnie.jpeg\", place it in variable \"image\"\n",
    "image = \n",
    "\n",
    "# --------------------------------\n",
    "\n",
    "(b, g, r) = image[0, 0]\n",
    "print(\"Pixel at (0, 0) - Red: {}, Green: {}, Blue: {}\".format(r,g, b))\n",
    "image[0, 0] = (0, 0, 255)\n",
    "(b, g, r) = image[0, 0]\n",
    "print(\"Pixel at (0, 0) - Red: {}, Green: {}, Blue: {}\".format(r,g, b))\n",
    "\n",
    "#--------code for showing image------------\n",
    "\n",
    "# transfer BGR to RGB \n",
    "# (Because plt show image in RGB, but opencv load image in BGR)\n",
    "image = cv2.cvtColor(image, cv2.COLOR_BGR2RGB)\n",
    "\n",
    "# set image to show\n",
    "plt.imshow(image)\n",
    "# set title\n",
    "plt.title(\"Winnie the Pooh\")\n",
    "# show image\n",
    "plt.show()"
   ]
  },
  {
   "cell_type": "code",
   "execution_count": null,
   "metadata": {
    "collapsed": true
   },
   "outputs": [],
   "source": [
    "# 为了以后方便显示，把显示方法放入show_image方法中\n",
    "# title 图片标题，image 存储图片的数组\n",
    "def show_image(title,image):\n",
    "    image = cv2.cvtColor(image, cv2.COLOR_BGR2RGB)\n",
    "    # set image to show\n",
    "    plt.imshow(image)\n",
    "    # set title\n",
    "    plt.title(title)\n",
    "    # show image\n",
    "    plt.show()\n",
    "\n",
    "# show Origin image    \n",
    "image = cv2.imread(\"./winnie.jpeg\")\n",
    "show_image(\"Origin\",image)"
   ]
  },
  {
   "cell_type": "markdown",
   "metadata": {},
   "source": [
    "# 题目一\n",
    " * 考察内容：\n",
    "     * Lines \n",
    "     * Rectangle\n",
    "     * Circles"
   ]
  },
  {
   "cell_type": "code",
   "execution_count": null,
   "metadata": {
    "collapsed": true
   },
   "outputs": [],
   "source": [
    "# 创建白色画布，在里面画图形：实心矩形，空心矩形，实心圆形，空心圆形，直线\n",
    "\n",
    "# -------Type in your code below-------------\n",
    "# 创建白色画布\n",
    "canvas = \n",
    "\n",
    "# 画线\n",
    "\n",
    "# 画矩形\n",
    "\n",
    "# 画圆形\n",
    "\n",
    "# ------------show canvas--------------------\n",
    "show_image(\"Canvas\",canvas)"
   ]
  },
  {
   "cell_type": "markdown",
   "metadata": {},
   "source": [
    "# 题目二\n",
    " * 考察内容：\n",
    "     * Translation\n",
    "     * Rotation\n",
    "     * Resizing\n",
    "     * Flipping\n",
    "     * Cropping"
   ]
  },
  {
   "cell_type": "code",
   "execution_count": null,
   "metadata": {
    "collapsed": true
   },
   "outputs": [],
   "source": [
    "image = cv2.imread(\"./winnie.jpeg\")\n",
    "show_image(\"Origin\",image)\n",
    "# -------------Type your code below-------------------\n",
    "# 1.向右50 pixel，向上90 pixel\n",
    "M = \n",
    "shifted = \n",
    "show_image(\"Shifted Up and Right\",shifted)\n",
    "\n",
    "# 2.上一次修改后的图形绕中心顺时针旋转45度\n",
    "(h,w) = \n",
    "center = \n",
    "\n",
    "M = \n",
    "rotated = \n",
    "show_image(\"Rotated by 45 Degrees\",rotated)\n",
    "\n",
    "# 3.上一次修改后的图形按照宽度（width）变成200 pixel进行等比例缩小(使用)\n",
    "r = \n",
    "dim = \n",
    "resized = \n",
    "show_image(\"Resize Width\",resized)\n",
    "\n",
    "# 4.上一次修改后的图形水平对称图片(使用)\n",
    "flipped = \n",
    "show_image(\"Flipped Horizontally\",flipped)\n",
    "\n",
    "# 5.在上一次修改后的图形中把小熊维尼的头像剪切出来\n",
    "cropped = \n",
    "show_image(\"Winnie's Face\",cropped)"
   ]
  },
  {
   "cell_type": "markdown",
   "metadata": {},
   "source": [
    "# 题目三\n",
    " * 考察内容：\n",
    "     * Image arithmetic\n",
    "     * Bitwise Operation"
   ]
  },
  {
   "cell_type": "code",
   "execution_count": null,
   "metadata": {
    "collapsed": true
   },
   "outputs": [],
   "source": [
    "show_image(\"Origin\",image)\n",
    "\n",
    "# -------------Type your code below-------------------\n",
    "\n",
    "# 原图片所有的像素点数值加20\n",
    "M = \n",
    "addImage = \n",
    "show_image(\"Add 20 intensity\",addImage)\n",
    "\n",
    "# 原图片所有的像素点数值减20\n",
    "subImage = cv2.subtract(image,M)\n",
    "show_image(\"Subtract 20 intensity\",subImage)\n",
    "\n",
    "# addImage 和 subImage 进行亦或处理\n",
    "bitwiseXor = \n",
    "show_image(\"bitwise and\",bitwiseXor)"
   ]
  },
  {
   "cell_type": "markdown",
   "metadata": {},
   "source": [
    "# 题目四\n",
    " * 考察内容：\n",
    "     * Masking"
   ]
  },
  {
   "cell_type": "code",
   "execution_count": null,
   "metadata": {
    "collapsed": true
   },
   "outputs": [],
   "source": [
    "# -------------Type your code below-------------------\n",
    "# 1.create mask's canvas\n",
    "mask = \n",
    "(cX,cY) = \n",
    "\n",
    "#----------show mask(Don't Change any of these)--------\n",
    "plt.title(\"mask\")\n",
    "plt.imshow(mask,cmap = plt.cm.gray)\n",
    "plt.show()\n",
    "#-----------------------------------------------------\n",
    "\n",
    "# 2.Place mask\n",
    "masked = \n",
    "show_image(\"Mask Applied to Image\",masked)"
   ]
  },
  {
   "cell_type": "markdown",
   "metadata": {},
   "source": [
    "# 题目五\n",
    " * 考察内容：\n",
    "     * Splitting channels\n",
    "     * Merging channels"
   ]
  },
  {
   "cell_type": "code",
   "execution_count": null,
   "metadata": {
    "collapsed": true
   },
   "outputs": [],
   "source": [
    "# -------------Type your code below-------------------\n",
    "# Split the image\n",
    "# 将图片拆分成B、G、R，用彩色图分别显示\n"
   ]
  },
  {
   "cell_type": "markdown",
   "metadata": {},
   "source": [
    "# 题目六\n",
    " * 考察内容：\n",
    "     * Color Spaces"
   ]
  },
  {
   "cell_type": "code",
   "execution_count": null,
   "metadata": {
    "collapsed": true
   },
   "outputs": [],
   "source": [
    "# -------------Type your code below-------------------\n",
    "# 显示三种类型的图：gray，hsv，lab\n",
    "gray = \n",
    "hsv = \n",
    "lab = \n",
    "\n",
    "# -----------------show image------------------------\n",
    "plt.imshow(gray,cmap = plt.cm.gray)\n",
    "plt.show()\n",
    "plt.imshow(hsv)\n",
    "plt.show()\n",
    "plt.imshow(lab)\n",
    "plt.show()"
   ]
  }
 ],
 "metadata": {
  "kernelspec": {
   "display_name": "Python 3",
   "language": "python",
   "name": "python3"
  },
  "language_info": {
   "codemirror_mode": {
    "name": "ipython",
    "version": 3
   },
   "file_extension": ".py",
   "mimetype": "text/x-python",
   "name": "python",
   "nbconvert_exporter": "python",
   "pygments_lexer": "ipython3",
   "version": "3.6.3"
  }
 },
 "nbformat": 4,
 "nbformat_minor": 2
}
